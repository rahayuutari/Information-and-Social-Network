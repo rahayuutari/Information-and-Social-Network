{
  "nbformat": 4,
  "nbformat_minor": 0,
  "metadata": {
    "colab": {
      "provenance": []
    },
    "kernelspec": {
      "name": "python3",
      "display_name": "Python 3"
    },
    "language_info": {
      "name": "python"
    }
  },
  "cells": [
    {
      "cell_type": "markdown",
      "source": [
        "# INFORMATION AND SOCIAL NETWORK\n",
        "problem : Lakukan analisis dari dataset di internet untuk mendapatkan informasi yang  mudah dipahami"
      ],
      "metadata": {
        "id": "n_O0TR1n7K1L"
      }
    },
    {
      "cell_type": "markdown",
      "source": [
        "## Dataset Acquisition\n",
        "Dataset yang saya pakai termasuk dalam kategori public dataset yang disediakan oleh research institution atau organisasi yang terlibat dalam analisis data atau penelitian, dimana dataset ini menggambarkan sejumlah besar koneksi antarkarakter yang ada dalam serial \"Game of Thrones\" dalam bentuk grafik yang terstruktur. Setiap baris dalam dataset mencatat dua karakter yang terhubung, jenis hubungan , kekuatan , serta sumbernya.\n"
      ],
      "metadata": {
        "id": "_ZwathMl7SKc"
      }
    },
    {
      "cell_type": "markdown",
      "source": [
        "## Analysis Requirement"
      ],
      "metadata": {
        "id": "rju9I4Nq8NgE"
      }
    },
    {
      "cell_type": "markdown",
      "source": [
        "### Dataset Description"
      ],
      "metadata": {
        "id": "RXaC9mpF8bN7"
      }
    },
    {
      "cell_type": "code",
      "execution_count": null,
      "metadata": {
        "colab": {
          "base_uri": "https://localhost:8080/",
          "height": 17
        },
        "id": "yQufpYJssNWp",
        "outputId": "498f3980-48d9-49a4-8e67-75d757125225"
      },
      "outputs": [
        {
          "output_type": "display_data",
          "data": {
            "text/plain": [
              "<IPython.core.display.HTML object>"
            ],
            "text/html": [
              "<style>.container { width:80% !important; }</style>"
            ]
          },
          "metadata": {}
        }
      ],
      "source": [
        "%matplotlib inline\n",
        "import networkx as nx\n",
        "import pandas as pd\n",
        "import matplotlib.pyplot as plt\n",
        "import matplotlib as mpl\n",
        "import numpy as np\n",
        "import warnings\n",
        "from collections import Counter\n",
        "import sys\n",
        "import os\n",
        "from __future__ import division\n",
        "plt.rcParams[\"figure.figsize\"] = (20,10)\n",
        "import tqdm as tqdm\n",
        "\n",
        "warnings.filterwarnings('ignore')\n",
        "from IPython.core.display import display, HTML\n",
        "display(HTML(\"<style>.container { width:80% !important; }</style>\"))\n"
      ]
    },
    {
      "cell_type": "markdown",
      "source": [
        "Kode tersebut adalah serangkaian impor dan konfigurasi awal yang diperlukan untuk pengembangan dan analisis data menggunakan Python di notebook Jupyter. Ini mencakup impor pustaka seperti NetworkX untuk analisis jaringan, pandas untuk manipulasi data, dan Matplotlib untuk visualisasi. Selain itu, beberapa pengaturan seperti pengaturan ukuran default gambar, pengabaian pesan peringatan, dan penyesuaian tampilan HTML juga dilakukan. Ini semua bertujuan untuk menyediakan lingkungan kerja yang efisien dan siap pakai untuk analisis data dan visualisasi."
      ],
      "metadata": {
        "id": "Le6ywpCD9nlI"
      }
    },
    {
      "cell_type": "code",
      "source": [
        "bookme = []\n",
        "for i in range(5):\n",
        "    bookme.append(pd.read_csv('asoiaf-book1-edges.csv'.format(i+1)))"
      ],
      "metadata": {
        "id": "b8QkPEHK1jGj"
      },
      "execution_count": null,
      "outputs": []
    },
    {
      "cell_type": "markdown",
      "source": [
        "Kode tersebut merupakan sebuah loop yang membaca beberapa file CSV  dan kemudian menyimpannya ke dalam sebuah list yang disebut \"bookme\". Loop ini berjalan sebanyak lima kali , yang berarti nilai \"i\" akan berubah dari 0 hingga 4. Dalam setiap iterasi, kode membaca file CSV dengan nama \"'asoiaf-book1-edges.csv'\", tetapi dengan menambahkan nomor urut berdasarkan nilai \"i\". Misalnya, pada iterasi pertama, kode akan membaca file \"'asoiaf-book1-edges.csv'\", sedangkan pada iterasi kedua, akan membaca \"'asoiaf-book2-edges.csv'\", dan seterusnya hingga iterasi kelima. Setelah membaca setiap file, hasilnya ditambahkan ke dalam list \"bookme\"."
      ],
      "metadata": {
        "id": "5LSBCKWe91UO"
      }
    },
    {
      "cell_type": "code",
      "source": [
        "all_books = pd.concat(bookme)"
      ],
      "metadata": {
        "id": "o2g0Sset2JDU"
      },
      "execution_count": null,
      "outputs": []
    },
    {
      "cell_type": "markdown",
      "source": [
        "Kode \"pd.concat(bookme)\" digunakan untuk menggabungkan semua DataFrames yang ada dalam list \"bookme\" menjadi satu DataFrame tunggal. Fungsi \"concat\" dari pustaka Pandas digunakan untuk melakukan penggabungan DataFrames baik secara berurutan maupun secara bersamaan berdasarkan sumbu tertentu.  pemanggilan \"pd.concat(bookme)\" akan menghasilkan satu DataFrame tunggal yang berisi data dari semua file yang telah dibaca sebelumnya menggunakan loop yang telah dijelaskan sebelumnya. Dengan demikian, \"all_books\" akan berisi gabungan dari semua data yang terdapat dalam file CSV \"'asoiaf-book1-edges.csv'\"."
      ],
      "metadata": {
        "id": "7r-ANgrN-HIp"
      }
    },
    {
      "cell_type": "code",
      "source": [
        "all_books.head()"
      ],
      "metadata": {
        "colab": {
          "base_uri": "https://localhost:8080/",
          "height": 204
        },
        "id": "b12pfifm2LEc",
        "outputId": "82aa8fdf-1f84-4a96-e061-4aae2e33109f"
      },
      "execution_count": null,
      "outputs": [
        {
          "output_type": "execute_result",
          "data": {
            "text/plain": [
              "                            Source              Target        Type  weight  \\\n",
              "0                   Addam-Marbrand     Jaime-Lannister  Undirected       3   \n",
              "1                   Addam-Marbrand     Tywin-Lannister  Undirected       6   \n",
              "2                Aegon-I-Targaryen  Daenerys-Targaryen  Undirected       5   \n",
              "3                Aegon-I-Targaryen        Eddard-Stark  Undirected       4   \n",
              "4  Aemon-Targaryen-(Maester-Aemon)      Alliser-Thorne  Undirected       4   \n",
              "\n",
              "   book  \n",
              "0     1  \n",
              "1     1  \n",
              "2     1  \n",
              "3     1  \n",
              "4     1  "
            ],
            "text/html": [
              "\n",
              "  <div id=\"df-3e8011ba-4a87-4905-bcb9-601510f0586d\" class=\"colab-df-container\">\n",
              "    <div>\n",
              "<style scoped>\n",
              "    .dataframe tbody tr th:only-of-type {\n",
              "        vertical-align: middle;\n",
              "    }\n",
              "\n",
              "    .dataframe tbody tr th {\n",
              "        vertical-align: top;\n",
              "    }\n",
              "\n",
              "    .dataframe thead th {\n",
              "        text-align: right;\n",
              "    }\n",
              "</style>\n",
              "<table border=\"1\" class=\"dataframe\">\n",
              "  <thead>\n",
              "    <tr style=\"text-align: right;\">\n",
              "      <th></th>\n",
              "      <th>Source</th>\n",
              "      <th>Target</th>\n",
              "      <th>Type</th>\n",
              "      <th>weight</th>\n",
              "      <th>book</th>\n",
              "    </tr>\n",
              "  </thead>\n",
              "  <tbody>\n",
              "    <tr>\n",
              "      <th>0</th>\n",
              "      <td>Addam-Marbrand</td>\n",
              "      <td>Jaime-Lannister</td>\n",
              "      <td>Undirected</td>\n",
              "      <td>3</td>\n",
              "      <td>1</td>\n",
              "    </tr>\n",
              "    <tr>\n",
              "      <th>1</th>\n",
              "      <td>Addam-Marbrand</td>\n",
              "      <td>Tywin-Lannister</td>\n",
              "      <td>Undirected</td>\n",
              "      <td>6</td>\n",
              "      <td>1</td>\n",
              "    </tr>\n",
              "    <tr>\n",
              "      <th>2</th>\n",
              "      <td>Aegon-I-Targaryen</td>\n",
              "      <td>Daenerys-Targaryen</td>\n",
              "      <td>Undirected</td>\n",
              "      <td>5</td>\n",
              "      <td>1</td>\n",
              "    </tr>\n",
              "    <tr>\n",
              "      <th>3</th>\n",
              "      <td>Aegon-I-Targaryen</td>\n",
              "      <td>Eddard-Stark</td>\n",
              "      <td>Undirected</td>\n",
              "      <td>4</td>\n",
              "      <td>1</td>\n",
              "    </tr>\n",
              "    <tr>\n",
              "      <th>4</th>\n",
              "      <td>Aemon-Targaryen-(Maester-Aemon)</td>\n",
              "      <td>Alliser-Thorne</td>\n",
              "      <td>Undirected</td>\n",
              "      <td>4</td>\n",
              "      <td>1</td>\n",
              "    </tr>\n",
              "  </tbody>\n",
              "</table>\n",
              "</div>\n",
              "    <div class=\"colab-df-buttons\">\n",
              "\n",
              "  <div class=\"colab-df-container\">\n",
              "    <button class=\"colab-df-convert\" onclick=\"convertToInteractive('df-3e8011ba-4a87-4905-bcb9-601510f0586d')\"\n",
              "            title=\"Convert this dataframe to an interactive table.\"\n",
              "            style=\"display:none;\">\n",
              "\n",
              "  <svg xmlns=\"http://www.w3.org/2000/svg\" height=\"24px\" viewBox=\"0 -960 960 960\">\n",
              "    <path d=\"M120-120v-720h720v720H120Zm60-500h600v-160H180v160Zm220 220h160v-160H400v160Zm0 220h160v-160H400v160ZM180-400h160v-160H180v160Zm440 0h160v-160H620v160ZM180-180h160v-160H180v160Zm440 0h160v-160H620v160Z\"/>\n",
              "  </svg>\n",
              "    </button>\n",
              "\n",
              "  <style>\n",
              "    .colab-df-container {\n",
              "      display:flex;\n",
              "      gap: 12px;\n",
              "    }\n",
              "\n",
              "    .colab-df-convert {\n",
              "      background-color: #E8F0FE;\n",
              "      border: none;\n",
              "      border-radius: 50%;\n",
              "      cursor: pointer;\n",
              "      display: none;\n",
              "      fill: #1967D2;\n",
              "      height: 32px;\n",
              "      padding: 0 0 0 0;\n",
              "      width: 32px;\n",
              "    }\n",
              "\n",
              "    .colab-df-convert:hover {\n",
              "      background-color: #E2EBFA;\n",
              "      box-shadow: 0px 1px 2px rgba(60, 64, 67, 0.3), 0px 1px 3px 1px rgba(60, 64, 67, 0.15);\n",
              "      fill: #174EA6;\n",
              "    }\n",
              "\n",
              "    .colab-df-buttons div {\n",
              "      margin-bottom: 4px;\n",
              "    }\n",
              "\n",
              "    [theme=dark] .colab-df-convert {\n",
              "      background-color: #3B4455;\n",
              "      fill: #D2E3FC;\n",
              "    }\n",
              "\n",
              "    [theme=dark] .colab-df-convert:hover {\n",
              "      background-color: #434B5C;\n",
              "      box-shadow: 0px 1px 3px 1px rgba(0, 0, 0, 0.15);\n",
              "      filter: drop-shadow(0px 1px 2px rgba(0, 0, 0, 0.3));\n",
              "      fill: #FFFFFF;\n",
              "    }\n",
              "  </style>\n",
              "\n",
              "    <script>\n",
              "      const buttonEl =\n",
              "        document.querySelector('#df-3e8011ba-4a87-4905-bcb9-601510f0586d button.colab-df-convert');\n",
              "      buttonEl.style.display =\n",
              "        google.colab.kernel.accessAllowed ? 'block' : 'none';\n",
              "\n",
              "      async function convertToInteractive(key) {\n",
              "        const element = document.querySelector('#df-3e8011ba-4a87-4905-bcb9-601510f0586d');\n",
              "        const dataTable =\n",
              "          await google.colab.kernel.invokeFunction('convertToInteractive',\n",
              "                                                    [key], {});\n",
              "        if (!dataTable) return;\n",
              "\n",
              "        const docLinkHtml = 'Like what you see? Visit the ' +\n",
              "          '<a target=\"_blank\" href=https://colab.research.google.com/notebooks/data_table.ipynb>data table notebook</a>'\n",
              "          + ' to learn more about interactive tables.';\n",
              "        element.innerHTML = '';\n",
              "        dataTable['output_type'] = 'display_data';\n",
              "        await google.colab.output.renderOutput(dataTable, element);\n",
              "        const docLink = document.createElement('div');\n",
              "        docLink.innerHTML = docLinkHtml;\n",
              "        element.appendChild(docLink);\n",
              "      }\n",
              "    </script>\n",
              "  </div>\n",
              "\n",
              "\n",
              "<div id=\"df-be8fb624-4c7c-4f87-8755-5d2c0685d0a4\">\n",
              "  <button class=\"colab-df-quickchart\" onclick=\"quickchart('df-be8fb624-4c7c-4f87-8755-5d2c0685d0a4')\"\n",
              "            title=\"Suggest charts\"\n",
              "            style=\"display:none;\">\n",
              "\n",
              "<svg xmlns=\"http://www.w3.org/2000/svg\" height=\"24px\"viewBox=\"0 0 24 24\"\n",
              "     width=\"24px\">\n",
              "    <g>\n",
              "        <path d=\"M19 3H5c-1.1 0-2 .9-2 2v14c0 1.1.9 2 2 2h14c1.1 0 2-.9 2-2V5c0-1.1-.9-2-2-2zM9 17H7v-7h2v7zm4 0h-2V7h2v10zm4 0h-2v-4h2v4z\"/>\n",
              "    </g>\n",
              "</svg>\n",
              "  </button>\n",
              "\n",
              "<style>\n",
              "  .colab-df-quickchart {\n",
              "      --bg-color: #E8F0FE;\n",
              "      --fill-color: #1967D2;\n",
              "      --hover-bg-color: #E2EBFA;\n",
              "      --hover-fill-color: #174EA6;\n",
              "      --disabled-fill-color: #AAA;\n",
              "      --disabled-bg-color: #DDD;\n",
              "  }\n",
              "\n",
              "  [theme=dark] .colab-df-quickchart {\n",
              "      --bg-color: #3B4455;\n",
              "      --fill-color: #D2E3FC;\n",
              "      --hover-bg-color: #434B5C;\n",
              "      --hover-fill-color: #FFFFFF;\n",
              "      --disabled-bg-color: #3B4455;\n",
              "      --disabled-fill-color: #666;\n",
              "  }\n",
              "\n",
              "  .colab-df-quickchart {\n",
              "    background-color: var(--bg-color);\n",
              "    border: none;\n",
              "    border-radius: 50%;\n",
              "    cursor: pointer;\n",
              "    display: none;\n",
              "    fill: var(--fill-color);\n",
              "    height: 32px;\n",
              "    padding: 0;\n",
              "    width: 32px;\n",
              "  }\n",
              "\n",
              "  .colab-df-quickchart:hover {\n",
              "    background-color: var(--hover-bg-color);\n",
              "    box-shadow: 0 1px 2px rgba(60, 64, 67, 0.3), 0 1px 3px 1px rgba(60, 64, 67, 0.15);\n",
              "    fill: var(--button-hover-fill-color);\n",
              "  }\n",
              "\n",
              "  .colab-df-quickchart-complete:disabled,\n",
              "  .colab-df-quickchart-complete:disabled:hover {\n",
              "    background-color: var(--disabled-bg-color);\n",
              "    fill: var(--disabled-fill-color);\n",
              "    box-shadow: none;\n",
              "  }\n",
              "\n",
              "  .colab-df-spinner {\n",
              "    border: 2px solid var(--fill-color);\n",
              "    border-color: transparent;\n",
              "    border-bottom-color: var(--fill-color);\n",
              "    animation:\n",
              "      spin 1s steps(1) infinite;\n",
              "  }\n",
              "\n",
              "  @keyframes spin {\n",
              "    0% {\n",
              "      border-color: transparent;\n",
              "      border-bottom-color: var(--fill-color);\n",
              "      border-left-color: var(--fill-color);\n",
              "    }\n",
              "    20% {\n",
              "      border-color: transparent;\n",
              "      border-left-color: var(--fill-color);\n",
              "      border-top-color: var(--fill-color);\n",
              "    }\n",
              "    30% {\n",
              "      border-color: transparent;\n",
              "      border-left-color: var(--fill-color);\n",
              "      border-top-color: var(--fill-color);\n",
              "      border-right-color: var(--fill-color);\n",
              "    }\n",
              "    40% {\n",
              "      border-color: transparent;\n",
              "      border-right-color: var(--fill-color);\n",
              "      border-top-color: var(--fill-color);\n",
              "    }\n",
              "    60% {\n",
              "      border-color: transparent;\n",
              "      border-right-color: var(--fill-color);\n",
              "    }\n",
              "    80% {\n",
              "      border-color: transparent;\n",
              "      border-right-color: var(--fill-color);\n",
              "      border-bottom-color: var(--fill-color);\n",
              "    }\n",
              "    90% {\n",
              "      border-color: transparent;\n",
              "      border-bottom-color: var(--fill-color);\n",
              "    }\n",
              "  }\n",
              "</style>\n",
              "\n",
              "  <script>\n",
              "    async function quickchart(key) {\n",
              "      const quickchartButtonEl =\n",
              "        document.querySelector('#' + key + ' button');\n",
              "      quickchartButtonEl.disabled = true;  // To prevent multiple clicks.\n",
              "      quickchartButtonEl.classList.add('colab-df-spinner');\n",
              "      try {\n",
              "        const charts = await google.colab.kernel.invokeFunction(\n",
              "            'suggestCharts', [key], {});\n",
              "      } catch (error) {\n",
              "        console.error('Error during call to suggestCharts:', error);\n",
              "      }\n",
              "      quickchartButtonEl.classList.remove('colab-df-spinner');\n",
              "      quickchartButtonEl.classList.add('colab-df-quickchart-complete');\n",
              "    }\n",
              "    (() => {\n",
              "      let quickchartButtonEl =\n",
              "        document.querySelector('#df-be8fb624-4c7c-4f87-8755-5d2c0685d0a4 button');\n",
              "      quickchartButtonEl.style.display =\n",
              "        google.colab.kernel.accessAllowed ? 'block' : 'none';\n",
              "    })();\n",
              "  </script>\n",
              "</div>\n",
              "    </div>\n",
              "  </div>\n"
            ],
            "application/vnd.google.colaboratory.intrinsic+json": {
              "type": "dataframe",
              "variable_name": "all_books",
              "summary": "{\n  \"name\": \"all_books\",\n  \"rows\": 3420,\n  \"fields\": [\n    {\n      \"column\": \"Source\",\n      \"properties\": {\n        \"dtype\": \"category\",\n        \"num_unique_values\": 139,\n        \"samples\": [\n          \"Tommen-Baratheon\",\n          \"Ilyn-Payne\",\n          \"Conn\"\n        ],\n        \"semantic_type\": \"\",\n        \"description\": \"\"\n      }\n    },\n    {\n      \"column\": \"Target\",\n      \"properties\": {\n        \"dtype\": \"category\",\n        \"num_unique_values\": 143,\n        \"samples\": [\n          \"Gendry\",\n          \"Rakharo\",\n          \"Nestor-Royce\"\n        ],\n        \"semantic_type\": \"\",\n        \"description\": \"\"\n      }\n    },\n    {\n      \"column\": \"Type\",\n      \"properties\": {\n        \"dtype\": \"category\",\n        \"num_unique_values\": 1,\n        \"samples\": [\n          \"Undirected\"\n        ],\n        \"semantic_type\": \"\",\n        \"description\": \"\"\n      }\n    },\n    {\n      \"column\": \"weight\",\n      \"properties\": {\n        \"dtype\": \"number\",\n        \"std\": 17,\n        \"min\": 3,\n        \"max\": 291,\n        \"num_unique_values\": 57,\n        \"samples\": [\n          3\n        ],\n        \"semantic_type\": \"\",\n        \"description\": \"\"\n      }\n    },\n    {\n      \"column\": \"book\",\n      \"properties\": {\n        \"dtype\": \"number\",\n        \"std\": 0,\n        \"min\": 1,\n        \"max\": 1,\n        \"num_unique_values\": 1,\n        \"samples\": [\n          1\n        ],\n        \"semantic_type\": \"\",\n        \"description\": \"\"\n      }\n    }\n  ]\n}"
            }
          },
          "metadata": {},
          "execution_count": 16
        }
      ]
    },
    {
      "cell_type": "markdown",
      "source": [
        "\"all_books.head()\" digunakan untuk menampilkan lima baris pertama dari DataFrame \"all_books\". Metode \".head()\" dari pustaka Pandas digunakan untuk melihat sebagian data awal dari sebuah DataFrame secara cepat."
      ],
      "metadata": {
        "id": "N8xhAVPr-NhP"
      }
    },
    {
      "cell_type": "code",
      "source": [
        "edges = all_books.groupby(['Source','Target']).agg({'weight':'sum'}).reset_index()"
      ],
      "metadata": {
        "id": "xSuVa4yF2Rxj"
      },
      "execution_count": null,
      "outputs": []
    },
    {
      "cell_type": "markdown",
      "source": [
        "Perintah \"edges = all_books.groupby(['Source','Target']).agg({'weight':'sum'}).reset_index()\" digunakan untuk mengelompokkan data berdasarkan kolom 'Source' (sumber) dan 'Target' (tujuan) dalam DataFrame \"all_books\", kemudian menghitung total bobot (weight) untuk setiap kelompok yang dihasilkan. Hasilnya disimpan dalam DataFrame baru yang disebut \"edges\". Proses \".reset_index()\" digunakan untuk mengembalikan indeks DataFrame ke bentuk default setelah pengelompokkan, sehingga indeks baru akan dibuat secara otomatis."
      ],
      "metadata": {
        "id": "oOBiK9H2-URG"
      }
    },
    {
      "cell_type": "code",
      "source": [
        "edges.sort_values('weight',ascending=False).head()"
      ],
      "metadata": {
        "colab": {
          "base_uri": "https://localhost:8080/",
          "height": 204
        },
        "id": "UvnqG0rb2UjP",
        "outputId": "ae3dad9f-6b48-4fae-de38-df80b85d0efd"
      },
      "execution_count": null,
      "outputs": [
        {
          "output_type": "execute_result",
          "data": {
            "text/plain": [
              "                 Source            Target  weight\n",
              "329        Eddard-Stark  Robert-Baratheon    1455\n",
              "134          Bran-Stark        Robb-Stark     560\n",
              "62           Arya-Stark       Sansa-Stark     520\n",
              "249  Daenerys-Targaryen             Drogo     505\n",
              "479   Joffrey-Baratheon       Sansa-Stark     435"
            ],
            "text/html": [
              "\n",
              "  <div id=\"df-4f7cfe23-4557-4b79-897a-413fc484c0c9\" class=\"colab-df-container\">\n",
              "    <div>\n",
              "<style scoped>\n",
              "    .dataframe tbody tr th:only-of-type {\n",
              "        vertical-align: middle;\n",
              "    }\n",
              "\n",
              "    .dataframe tbody tr th {\n",
              "        vertical-align: top;\n",
              "    }\n",
              "\n",
              "    .dataframe thead th {\n",
              "        text-align: right;\n",
              "    }\n",
              "</style>\n",
              "<table border=\"1\" class=\"dataframe\">\n",
              "  <thead>\n",
              "    <tr style=\"text-align: right;\">\n",
              "      <th></th>\n",
              "      <th>Source</th>\n",
              "      <th>Target</th>\n",
              "      <th>weight</th>\n",
              "    </tr>\n",
              "  </thead>\n",
              "  <tbody>\n",
              "    <tr>\n",
              "      <th>329</th>\n",
              "      <td>Eddard-Stark</td>\n",
              "      <td>Robert-Baratheon</td>\n",
              "      <td>1455</td>\n",
              "    </tr>\n",
              "    <tr>\n",
              "      <th>134</th>\n",
              "      <td>Bran-Stark</td>\n",
              "      <td>Robb-Stark</td>\n",
              "      <td>560</td>\n",
              "    </tr>\n",
              "    <tr>\n",
              "      <th>62</th>\n",
              "      <td>Arya-Stark</td>\n",
              "      <td>Sansa-Stark</td>\n",
              "      <td>520</td>\n",
              "    </tr>\n",
              "    <tr>\n",
              "      <th>249</th>\n",
              "      <td>Daenerys-Targaryen</td>\n",
              "      <td>Drogo</td>\n",
              "      <td>505</td>\n",
              "    </tr>\n",
              "    <tr>\n",
              "      <th>479</th>\n",
              "      <td>Joffrey-Baratheon</td>\n",
              "      <td>Sansa-Stark</td>\n",
              "      <td>435</td>\n",
              "    </tr>\n",
              "  </tbody>\n",
              "</table>\n",
              "</div>\n",
              "    <div class=\"colab-df-buttons\">\n",
              "\n",
              "  <div class=\"colab-df-container\">\n",
              "    <button class=\"colab-df-convert\" onclick=\"convertToInteractive('df-4f7cfe23-4557-4b79-897a-413fc484c0c9')\"\n",
              "            title=\"Convert this dataframe to an interactive table.\"\n",
              "            style=\"display:none;\">\n",
              "\n",
              "  <svg xmlns=\"http://www.w3.org/2000/svg\" height=\"24px\" viewBox=\"0 -960 960 960\">\n",
              "    <path d=\"M120-120v-720h720v720H120Zm60-500h600v-160H180v160Zm220 220h160v-160H400v160Zm0 220h160v-160H400v160ZM180-400h160v-160H180v160Zm440 0h160v-160H620v160ZM180-180h160v-160H180v160Zm440 0h160v-160H620v160Z\"/>\n",
              "  </svg>\n",
              "    </button>\n",
              "\n",
              "  <style>\n",
              "    .colab-df-container {\n",
              "      display:flex;\n",
              "      gap: 12px;\n",
              "    }\n",
              "\n",
              "    .colab-df-convert {\n",
              "      background-color: #E8F0FE;\n",
              "      border: none;\n",
              "      border-radius: 50%;\n",
              "      cursor: pointer;\n",
              "      display: none;\n",
              "      fill: #1967D2;\n",
              "      height: 32px;\n",
              "      padding: 0 0 0 0;\n",
              "      width: 32px;\n",
              "    }\n",
              "\n",
              "    .colab-df-convert:hover {\n",
              "      background-color: #E2EBFA;\n",
              "      box-shadow: 0px 1px 2px rgba(60, 64, 67, 0.3), 0px 1px 3px 1px rgba(60, 64, 67, 0.15);\n",
              "      fill: #174EA6;\n",
              "    }\n",
              "\n",
              "    .colab-df-buttons div {\n",
              "      margin-bottom: 4px;\n",
              "    }\n",
              "\n",
              "    [theme=dark] .colab-df-convert {\n",
              "      background-color: #3B4455;\n",
              "      fill: #D2E3FC;\n",
              "    }\n",
              "\n",
              "    [theme=dark] .colab-df-convert:hover {\n",
              "      background-color: #434B5C;\n",
              "      box-shadow: 0px 1px 3px 1px rgba(0, 0, 0, 0.15);\n",
              "      filter: drop-shadow(0px 1px 2px rgba(0, 0, 0, 0.3));\n",
              "      fill: #FFFFFF;\n",
              "    }\n",
              "  </style>\n",
              "\n",
              "    <script>\n",
              "      const buttonEl =\n",
              "        document.querySelector('#df-4f7cfe23-4557-4b79-897a-413fc484c0c9 button.colab-df-convert');\n",
              "      buttonEl.style.display =\n",
              "        google.colab.kernel.accessAllowed ? 'block' : 'none';\n",
              "\n",
              "      async function convertToInteractive(key) {\n",
              "        const element = document.querySelector('#df-4f7cfe23-4557-4b79-897a-413fc484c0c9');\n",
              "        const dataTable =\n",
              "          await google.colab.kernel.invokeFunction('convertToInteractive',\n",
              "                                                    [key], {});\n",
              "        if (!dataTable) return;\n",
              "\n",
              "        const docLinkHtml = 'Like what you see? Visit the ' +\n",
              "          '<a target=\"_blank\" href=https://colab.research.google.com/notebooks/data_table.ipynb>data table notebook</a>'\n",
              "          + ' to learn more about interactive tables.';\n",
              "        element.innerHTML = '';\n",
              "        dataTable['output_type'] = 'display_data';\n",
              "        await google.colab.output.renderOutput(dataTable, element);\n",
              "        const docLink = document.createElement('div');\n",
              "        docLink.innerHTML = docLinkHtml;\n",
              "        element.appendChild(docLink);\n",
              "      }\n",
              "    </script>\n",
              "  </div>\n",
              "\n",
              "\n",
              "<div id=\"df-4be65167-0c89-4ff9-8a05-8b4a9ce448aa\">\n",
              "  <button class=\"colab-df-quickchart\" onclick=\"quickchart('df-4be65167-0c89-4ff9-8a05-8b4a9ce448aa')\"\n",
              "            title=\"Suggest charts\"\n",
              "            style=\"display:none;\">\n",
              "\n",
              "<svg xmlns=\"http://www.w3.org/2000/svg\" height=\"24px\"viewBox=\"0 0 24 24\"\n",
              "     width=\"24px\">\n",
              "    <g>\n",
              "        <path d=\"M19 3H5c-1.1 0-2 .9-2 2v14c0 1.1.9 2 2 2h14c1.1 0 2-.9 2-2V5c0-1.1-.9-2-2-2zM9 17H7v-7h2v7zm4 0h-2V7h2v10zm4 0h-2v-4h2v4z\"/>\n",
              "    </g>\n",
              "</svg>\n",
              "  </button>\n",
              "\n",
              "<style>\n",
              "  .colab-df-quickchart {\n",
              "      --bg-color: #E8F0FE;\n",
              "      --fill-color: #1967D2;\n",
              "      --hover-bg-color: #E2EBFA;\n",
              "      --hover-fill-color: #174EA6;\n",
              "      --disabled-fill-color: #AAA;\n",
              "      --disabled-bg-color: #DDD;\n",
              "  }\n",
              "\n",
              "  [theme=dark] .colab-df-quickchart {\n",
              "      --bg-color: #3B4455;\n",
              "      --fill-color: #D2E3FC;\n",
              "      --hover-bg-color: #434B5C;\n",
              "      --hover-fill-color: #FFFFFF;\n",
              "      --disabled-bg-color: #3B4455;\n",
              "      --disabled-fill-color: #666;\n",
              "  }\n",
              "\n",
              "  .colab-df-quickchart {\n",
              "    background-color: var(--bg-color);\n",
              "    border: none;\n",
              "    border-radius: 50%;\n",
              "    cursor: pointer;\n",
              "    display: none;\n",
              "    fill: var(--fill-color);\n",
              "    height: 32px;\n",
              "    padding: 0;\n",
              "    width: 32px;\n",
              "  }\n",
              "\n",
              "  .colab-df-quickchart:hover {\n",
              "    background-color: var(--hover-bg-color);\n",
              "    box-shadow: 0 1px 2px rgba(60, 64, 67, 0.3), 0 1px 3px 1px rgba(60, 64, 67, 0.15);\n",
              "    fill: var(--button-hover-fill-color);\n",
              "  }\n",
              "\n",
              "  .colab-df-quickchart-complete:disabled,\n",
              "  .colab-df-quickchart-complete:disabled:hover {\n",
              "    background-color: var(--disabled-bg-color);\n",
              "    fill: var(--disabled-fill-color);\n",
              "    box-shadow: none;\n",
              "  }\n",
              "\n",
              "  .colab-df-spinner {\n",
              "    border: 2px solid var(--fill-color);\n",
              "    border-color: transparent;\n",
              "    border-bottom-color: var(--fill-color);\n",
              "    animation:\n",
              "      spin 1s steps(1) infinite;\n",
              "  }\n",
              "\n",
              "  @keyframes spin {\n",
              "    0% {\n",
              "      border-color: transparent;\n",
              "      border-bottom-color: var(--fill-color);\n",
              "      border-left-color: var(--fill-color);\n",
              "    }\n",
              "    20% {\n",
              "      border-color: transparent;\n",
              "      border-left-color: var(--fill-color);\n",
              "      border-top-color: var(--fill-color);\n",
              "    }\n",
              "    30% {\n",
              "      border-color: transparent;\n",
              "      border-left-color: var(--fill-color);\n",
              "      border-top-color: var(--fill-color);\n",
              "      border-right-color: var(--fill-color);\n",
              "    }\n",
              "    40% {\n",
              "      border-color: transparent;\n",
              "      border-right-color: var(--fill-color);\n",
              "      border-top-color: var(--fill-color);\n",
              "    }\n",
              "    60% {\n",
              "      border-color: transparent;\n",
              "      border-right-color: var(--fill-color);\n",
              "    }\n",
              "    80% {\n",
              "      border-color: transparent;\n",
              "      border-right-color: var(--fill-color);\n",
              "      border-bottom-color: var(--fill-color);\n",
              "    }\n",
              "    90% {\n",
              "      border-color: transparent;\n",
              "      border-bottom-color: var(--fill-color);\n",
              "    }\n",
              "  }\n",
              "</style>\n",
              "\n",
              "  <script>\n",
              "    async function quickchart(key) {\n",
              "      const quickchartButtonEl =\n",
              "        document.querySelector('#' + key + ' button');\n",
              "      quickchartButtonEl.disabled = true;  // To prevent multiple clicks.\n",
              "      quickchartButtonEl.classList.add('colab-df-spinner');\n",
              "      try {\n",
              "        const charts = await google.colab.kernel.invokeFunction(\n",
              "            'suggestCharts', [key], {});\n",
              "      } catch (error) {\n",
              "        console.error('Error during call to suggestCharts:', error);\n",
              "      }\n",
              "      quickchartButtonEl.classList.remove('colab-df-spinner');\n",
              "      quickchartButtonEl.classList.add('colab-df-quickchart-complete');\n",
              "    }\n",
              "    (() => {\n",
              "      let quickchartButtonEl =\n",
              "        document.querySelector('#df-4be65167-0c89-4ff9-8a05-8b4a9ce448aa button');\n",
              "      quickchartButtonEl.style.display =\n",
              "        google.colab.kernel.accessAllowed ? 'block' : 'none';\n",
              "    })();\n",
              "  </script>\n",
              "</div>\n",
              "    </div>\n",
              "  </div>\n"
            ],
            "application/vnd.google.colaboratory.intrinsic+json": {
              "type": "dataframe",
              "summary": "{\n  \"name\": \"edges\",\n  \"rows\": 5,\n  \"fields\": [\n    {\n      \"column\": \"Source\",\n      \"properties\": {\n        \"dtype\": \"string\",\n        \"num_unique_values\": 5,\n        \"samples\": [\n          \"Bran-Stark\",\n          \"Joffrey-Baratheon\",\n          \"Arya-Stark\"\n        ],\n        \"semantic_type\": \"\",\n        \"description\": \"\"\n      }\n    },\n    {\n      \"column\": \"Target\",\n      \"properties\": {\n        \"dtype\": \"string\",\n        \"num_unique_values\": 4,\n        \"samples\": [\n          \"Robb-Stark\",\n          \"Drogo\",\n          \"Robert-Baratheon\"\n        ],\n        \"semantic_type\": \"\",\n        \"description\": \"\"\n      }\n    },\n    {\n      \"column\": \"weight\",\n      \"properties\": {\n        \"dtype\": \"number\",\n        \"std\": 427,\n        \"min\": 435,\n        \"max\": 1455,\n        \"num_unique_values\": 5,\n        \"samples\": [\n          560,\n          435,\n          520\n        ],\n        \"semantic_type\": \"\",\n        \"description\": \"\"\n      }\n    }\n  ]\n}"
            }
          },
          "metadata": {},
          "execution_count": 18
        }
      ]
    },
    {
      "cell_type": "markdown",
      "source": [
        "perintah diatas digunakan untuk mengurutkan datasecara ascending dengan menampilkan headnya"
      ],
      "metadata": {
        "id": "F0ApDv-r-Z40"
      }
    },
    {
      "cell_type": "code",
      "source": [
        "num_nodes = len(G.nodes())\n",
        "num_edges = len(G.edges())\n",
        "network_size = G.size()"
      ],
      "metadata": {
        "id": "-I8uiMeY87ho"
      },
      "execution_count": null,
      "outputs": []
    },
    {
      "cell_type": "markdown",
      "source": [
        "kode diatas digunakan untuk menghitung panjang nodes dan edgesnya lalu mengambil size dari jaringan."
      ],
      "metadata": {
        "id": "4-5J7SUA-kdo"
      }
    },
    {
      "cell_type": "code",
      "source": [
        "print( num_nodes)\n",
        "print( num_edges)\n",
        "print( network_size)"
      ],
      "metadata": {
        "colab": {
          "base_uri": "https://localhost:8080/"
        },
        "id": "sh8-rTnL-oLw",
        "outputId": "f5c1a0db-f634-457b-fa8d-a3a89d6929f6"
      },
      "execution_count": null,
      "outputs": [
        {
          "output_type": "stream",
          "name": "stdout",
          "text": [
            "187\n",
            "684\n",
            "684\n"
          ]
        }
      ]
    },
    {
      "cell_type": "markdown",
      "source": [
        "kode diatas digunakan untuk menampilkan jumlah total dari nodes, edges dan network size."
      ],
      "metadata": {
        "id": "TxafyC6Y-wdg"
      }
    },
    {
      "cell_type": "code",
      "source": [
        "node_attributesme = nx.get_node_attributes(G, \"attribute_name\")\n",
        "edge_attributesme = nx.get_edge_attributes(G, \"attribute_name\")\n",
        "\n",
        "print({k: type(v) for k, v in node_attributesme.items()})\n",
        "print({k: type(v) for k, v in edge_attributesme.items()})"
      ],
      "metadata": {
        "colab": {
          "base_uri": "https://localhost:8080/"
        },
        "id": "0TQCYdhx9Irl",
        "outputId": "bd4c8a73-e880-4e3c-a5d5-fa13fa8b583a"
      },
      "execution_count": null,
      "outputs": [
        {
          "output_type": "stream",
          "name": "stdout",
          "text": [
            "{}\n",
            "{}\n"
          ]
        }
      ]
    },
    {
      "cell_type": "markdown",
      "source": [
        "kode diatas digunakan untuk print tipe data atribut dari node dan edges"
      ],
      "metadata": {
        "id": "wuX3ZckI_BCN"
      }
    },
    {
      "cell_type": "code",
      "source": [
        "nodedata_types = {node: type(data) for node, data in G.nodes(data=True)}\n",
        "\n",
        "print( nodedata_types)"
      ],
      "metadata": {
        "colab": {
          "base_uri": "https://localhost:8080/"
        },
        "id": "QvBNGHY99MsC",
        "outputId": "bbcc5693-5f55-484a-cdc1-74f373342308"
      },
      "execution_count": null,
      "outputs": [
        {
          "output_type": "stream",
          "name": "stdout",
          "text": [
            "{'Addam-Marbrand': <class 'dict'>, 'Jaime-Lannister': <class 'dict'>, 'Tywin-Lannister': <class 'dict'>, 'Aegon-I-Targaryen': <class 'dict'>, 'Daenerys-Targaryen': <class 'dict'>, 'Eddard-Stark': <class 'dict'>, 'Aemon-Targaryen-(Maester-Aemon)': <class 'dict'>, 'Alliser-Thorne': <class 'dict'>, 'Bowen-Marsh': <class 'dict'>, 'Chett': <class 'dict'>, 'Clydas': <class 'dict'>, 'Jeor-Mormont': <class 'dict'>, 'Jon-Snow': <class 'dict'>, 'Samwell-Tarly': <class 'dict'>, 'Aerys-II-Targaryen': <class 'dict'>, 'Brandon-Stark': <class 'dict'>, 'Gerold-Hightower': <class 'dict'>, 'Jon-Arryn': <class 'dict'>, 'Robert-Baratheon': <class 'dict'>, 'Aggo': <class 'dict'>, 'Drogo': <class 'dict'>, 'Jhogo': <class 'dict'>, 'Jorah-Mormont': <class 'dict'>, 'Quaro': <class 'dict'>, 'Rakharo': <class 'dict'>, 'Albett': <class 'dict'>, 'Halder': <class 'dict'>, 'Rast': <class 'dict'>, 'Grenn': <class 'dict'>, 'Pypar': <class 'dict'>, 'Tyrion-Lannister': <class 'dict'>, 'Alyn': <class 'dict'>, 'Harwin': <class 'dict'>, 'Jory-Cassel': <class 'dict'>, 'Tomard': <class 'dict'>, 'Arthur-Dayne': <class 'dict'>, 'Arya-Stark': <class 'dict'>, 'Benjen-Stark': <class 'dict'>, 'Bran-Stark': <class 'dict'>, 'Catelyn-Stark': <class 'dict'>, 'Cersei-Lannister': <class 'dict'>, 'Desmond': <class 'dict'>, 'Ilyn-Payne': <class 'dict'>, 'Jeyne-Poole': <class 'dict'>, 'Joffrey-Baratheon': <class 'dict'>, 'Meryn-Trant': <class 'dict'>, 'Mordane': <class 'dict'>, 'Mycah': <class 'dict'>, 'Myrcella-Baratheon': <class 'dict'>, 'Petyr-Baelish': <class 'dict'>, 'Rickon-Stark': <class 'dict'>, 'Robb-Stark': <class 'dict'>, 'Rodrik-Cassel': <class 'dict'>, 'Sandor-Clegane': <class 'dict'>, 'Sansa-Stark': <class 'dict'>, 'Syrio-Forel': <class 'dict'>, 'Tommen-Baratheon': <class 'dict'>, 'Vayon-Poole': <class 'dict'>, 'Yoren': <class 'dict'>, 'Arys-Oakheart': <class 'dict'>, 'Balon-Greyjoy': <class 'dict'>, 'Balon-Swann': <class 'dict'>, 'Renly-Baratheon': <class 'dict'>, 'Barristan-Selmy': <class 'dict'>, 'Boros-Blount': <class 'dict'>, 'Pycelle': <class 'dict'>, 'Varys': <class 'dict'>, 'Jaremy-Rykker': <class 'dict'>, 'Luwin': <class 'dict'>, 'Mance-Rayder': <class 'dict'>, 'Theon-Greyjoy': <class 'dict'>, 'Waymar-Royce': <class 'dict'>, 'Beric-Dondarrion': <class 'dict'>, 'Gregor-Clegane': <class 'dict'>, 'Loras-Tyrell': <class 'dict'>, 'Thoros-of-Myr': <class 'dict'>, 'Hali': <class 'dict'>, 'Hallis-Mollen': <class 'dict'>, 'Hodor': <class 'dict'>, 'Hullen': <class 'dict'>, 'Joseth': <class 'dict'>, 'Nan': <class 'dict'>, 'Osha': <class 'dict'>, 'Rickard-Karstark': <class 'dict'>, 'Rickard-Stark': <class 'dict'>, 'Stiv': <class 'dict'>, 'Lyanna-Stark': <class 'dict'>, 'Bronn': <class 'dict'>, 'Chiggen': <class 'dict'>, 'Marillion': <class 'dict'>, 'Shae': <class 'dict'>, 'Shagga': <class 'dict'>, 'Vardis-Egen': <class 'dict'>, 'Willis-Wode': <class 'dict'>, 'Brynden-Tully': <class 'dict'>, 'Edmure-Tully': <class 'dict'>, 'Hoster-Tully': <class 'dict'>, 'Lysa-Arryn': <class 'dict'>, 'Nestor-Royce': <class 'dict'>, 'Walder-Frey': <class 'dict'>, 'Colemon': <class 'dict'>, 'Donnel-Waynwood': <class 'dict'>, 'Eon-Hunter': <class 'dict'>, 'Jon-Umber-(Greatjon)': <class 'dict'>, 'Masha-Heddle': <class 'dict'>, 'Moreo-Tumitis': <class 'dict'>, 'Mya-Stone': <class 'dict'>, 'Mychel-Redfort': <class 'dict'>, 'Robert-Arryn': <class 'dict'>, 'Stevron-Frey': <class 'dict'>, 'Tytos-Blackwood': <class 'dict'>, 'Wendel-Manderly': <class 'dict'>, 'Cayn': <class 'dict'>, 'Janos-Slynt': <class 'dict'>, 'Stannis-Baratheon': <class 'dict'>, 'Chella': <class 'dict'>, 'Clement-Piper': <class 'dict'>, 'Karyl-Vance': <class 'dict'>, 'Cohollo': <class 'dict'>, 'Haggo': <class 'dict'>, 'Qotho': <class 'dict'>, 'Conn': <class 'dict'>, 'Coratt': <class 'dict'>, 'Doreah': <class 'dict'>, 'Eroeh': <class 'dict'>, 'Illyrio-Mopatis': <class 'dict'>, 'Irri': <class 'dict'>, 'Jhiqui': <class 'dict'>, 'Mirri-Maz-Duur': <class 'dict'>, 'Rhaegar-Targaryen': <class 'dict'>, 'Viserys-Targaryen': <class 'dict'>, 'Danwell-Frey': <class 'dict'>, 'Hosteen-Frey': <class 'dict'>, 'Jared-Frey': <class 'dict'>, 'Dareon': <class 'dict'>, 'Daryn-Hornwood': <class 'dict'>, 'Torrhen-Karstark': <class 'dict'>, 'Dolf': <class 'dict'>, 'Donal-Noye': <class 'dict'>, 'Jommo': <class 'dict'>, 'Ogo': <class 'dict'>, 'Rhaego': <class 'dict'>, 'Dywen': <class 'dict'>, 'Galbart-Glover': <class 'dict'>, 'Gendry': <class 'dict'>, 'High-Septon-(fat_one)': <class 'dict'>, 'Howland-Reed': <class 'dict'>, 'Jacks': <class 'dict'>, 'Joss': <class 'dict'>, 'Marq-Piper': <class 'dict'>, 'Porther': <class 'dict'>, 'Raymun-Darry': <class 'dict'>, 'Tobho-Mott': <class 'dict'>, 'Tregar': <class 'dict'>, 'Varly': <class 'dict'>, 'Wyl-(guard)': <class 'dict'>, 'Wylla': <class 'dict'>, 'Fogo': <class 'dict'>, 'Roose-Bolton': <class 'dict'>, 'Gared': <class 'dict'>, 'Will-(prologue)': <class 'dict'>, 'Oswell-Whent': <class 'dict'>, 'Todder': <class 'dict'>, 'Gunthor-son-of-Gurn': <class 'dict'>, 'Harys-Swyft': <class 'dict'>, 'Heward': <class 'dict'>, 'Hobb': <class 'dict'>, 'Hugh': <class 'dict'>, 'Jafer-Flowers': <class 'dict'>, 'Kevan-Lannister': <class 'dict'>, 'Matthar': <class 'dict'>, 'Othor': <class 'dict'>, 'Maege-Mormont': <class 'dict'>, 'Jonos-Bracken': <class 'dict'>, 'Jyck': <class 'dict'>, 'Morrec': <class 'dict'>, 'Kurleket': <class 'dict'>, 'Lancel-Lannister': <class 'dict'>, 'Leo-Lefford': <class 'dict'>, 'Mace-Tyrell': <class 'dict'>, 'Lyn-Corbray': <class 'dict'>, 'Paxter-Redwyne': <class 'dict'>, 'Maegor-I-Targaryen': <class 'dict'>, 'Mord': <class 'dict'>, 'Randyll-Tarly': <class 'dict'>, 'Timett': <class 'dict'>, 'Ulf-son-of-Umar': <class 'dict'>}\n"
          ]
        }
      ]
    },
    {
      "cell_type": "markdown",
      "source": [
        "kode diatas digunakan untuk menampilkan semua tipe data dari atribut node"
      ],
      "metadata": {
        "id": "XomOdnvm-3jI"
      }
    },
    {
      "cell_type": "code",
      "source": [
        "G = nx.from_pandas_edgelist(edges,\n",
        "                            source='Source',\n",
        "                            target='Target',\n",
        "                            edge_attr='weight' )"
      ],
      "metadata": {
        "id": "6gXD2LJt2VU6"
      },
      "execution_count": null,
      "outputs": []
    },
    {
      "cell_type": "markdown",
      "source": [
        "kode diatas digunakan untuk membuat edgelist dari source , target dan weight."
      ],
      "metadata": {
        "id": "8CSzrl6s_KqB"
      }
    },
    {
      "cell_type": "markdown",
      "source": [
        "### Network Characteristics"
      ],
      "metadata": {
        "id": "9kyNW03Q_UJS"
      }
    },
    {
      "cell_type": "code",
      "source": [
        "num_nodes = G.number_of_nodes()\n",
        "num_edges = G.number_of_edges()"
      ],
      "metadata": {
        "id": "8YL3WrX02ZZ8"
      },
      "execution_count": null,
      "outputs": []
    },
    {
      "cell_type": "markdown",
      "source": [
        "kode diatas digunakan untuk menghitung jumlah dari node dan edges"
      ],
      "metadata": {
        "id": "_RYUmqMg_pE6"
      }
    },
    {
      "cell_type": "code",
      "source": [
        "nodesattributes = G.nodes(data=True)\n",
        "edgesattributes = G.edges(data=True)"
      ],
      "metadata": {
        "id": "2gSZR-7f_fMn"
      },
      "execution_count": null,
      "outputs": []
    },
    {
      "cell_type": "markdown",
      "source": [
        "digunakan untuk mengambil semua node dan edges dalam graph dn menampilkan dalam tupel"
      ],
      "metadata": {
        "id": "gobwC_xz_ubq"
      }
    },
    {
      "cell_type": "code",
      "source": [
        "print(f\"Number of nodes: {num_nodes}\")\n",
        "print(f\"Number of edges: {num_edges}\")\n",
        "\n",
        "print(\"\\nattributes:\")\n",
        "for node, attr in nodesattributes:\n",
        "    print(f\"Node {node}: {attr}\")"
      ],
      "metadata": {
        "colab": {
          "base_uri": "https://localhost:8080/"
        },
        "id": "FyS4EGq1_jHE",
        "outputId": "a24f8bcc-2a79-40eb-9181-8ad961938106"
      },
      "execution_count": null,
      "outputs": [
        {
          "output_type": "stream",
          "name": "stdout",
          "text": [
            "Number of nodes: 187\n",
            "Number of edges: 684\n",
            "\n",
            "Nodes with attributes:\n",
            "Node Addam-Marbrand: {}\n",
            "Node Jaime-Lannister: {}\n",
            "Node Tywin-Lannister: {}\n",
            "Node Aegon-I-Targaryen: {}\n",
            "Node Daenerys-Targaryen: {}\n",
            "Node Eddard-Stark: {}\n",
            "Node Aemon-Targaryen-(Maester-Aemon): {}\n",
            "Node Alliser-Thorne: {}\n",
            "Node Bowen-Marsh: {}\n",
            "Node Chett: {}\n",
            "Node Clydas: {}\n",
            "Node Jeor-Mormont: {}\n",
            "Node Jon-Snow: {}\n",
            "Node Samwell-Tarly: {}\n",
            "Node Aerys-II-Targaryen: {}\n",
            "Node Brandon-Stark: {}\n",
            "Node Gerold-Hightower: {}\n",
            "Node Jon-Arryn: {}\n",
            "Node Robert-Baratheon: {}\n",
            "Node Aggo: {}\n",
            "Node Drogo: {}\n",
            "Node Jhogo: {}\n",
            "Node Jorah-Mormont: {}\n",
            "Node Quaro: {}\n",
            "Node Rakharo: {}\n",
            "Node Albett: {}\n",
            "Node Halder: {}\n",
            "Node Rast: {}\n",
            "Node Grenn: {}\n",
            "Node Pypar: {}\n",
            "Node Tyrion-Lannister: {}\n",
            "Node Alyn: {}\n",
            "Node Harwin: {}\n",
            "Node Jory-Cassel: {}\n",
            "Node Tomard: {}\n",
            "Node Arthur-Dayne: {}\n",
            "Node Arya-Stark: {}\n",
            "Node Benjen-Stark: {}\n",
            "Node Bran-Stark: {}\n",
            "Node Catelyn-Stark: {}\n",
            "Node Cersei-Lannister: {}\n",
            "Node Desmond: {}\n",
            "Node Ilyn-Payne: {}\n",
            "Node Jeyne-Poole: {}\n",
            "Node Joffrey-Baratheon: {}\n",
            "Node Meryn-Trant: {}\n",
            "Node Mordane: {}\n",
            "Node Mycah: {}\n",
            "Node Myrcella-Baratheon: {}\n",
            "Node Petyr-Baelish: {}\n",
            "Node Rickon-Stark: {}\n",
            "Node Robb-Stark: {}\n",
            "Node Rodrik-Cassel: {}\n",
            "Node Sandor-Clegane: {}\n",
            "Node Sansa-Stark: {}\n",
            "Node Syrio-Forel: {}\n",
            "Node Tommen-Baratheon: {}\n",
            "Node Vayon-Poole: {}\n",
            "Node Yoren: {}\n",
            "Node Arys-Oakheart: {}\n",
            "Node Balon-Greyjoy: {}\n",
            "Node Balon-Swann: {}\n",
            "Node Renly-Baratheon: {}\n",
            "Node Barristan-Selmy: {}\n",
            "Node Boros-Blount: {}\n",
            "Node Pycelle: {}\n",
            "Node Varys: {}\n",
            "Node Jaremy-Rykker: {}\n",
            "Node Luwin: {}\n",
            "Node Mance-Rayder: {}\n",
            "Node Theon-Greyjoy: {}\n",
            "Node Waymar-Royce: {}\n",
            "Node Beric-Dondarrion: {}\n",
            "Node Gregor-Clegane: {}\n",
            "Node Loras-Tyrell: {}\n",
            "Node Thoros-of-Myr: {}\n",
            "Node Hali: {}\n",
            "Node Hallis-Mollen: {}\n",
            "Node Hodor: {}\n",
            "Node Hullen: {}\n",
            "Node Joseth: {}\n",
            "Node Nan: {}\n",
            "Node Osha: {}\n",
            "Node Rickard-Karstark: {}\n",
            "Node Rickard-Stark: {}\n",
            "Node Stiv: {}\n",
            "Node Lyanna-Stark: {}\n",
            "Node Bronn: {}\n",
            "Node Chiggen: {}\n",
            "Node Marillion: {}\n",
            "Node Shae: {}\n",
            "Node Shagga: {}\n",
            "Node Vardis-Egen: {}\n",
            "Node Willis-Wode: {}\n",
            "Node Brynden-Tully: {}\n",
            "Node Edmure-Tully: {}\n",
            "Node Hoster-Tully: {}\n",
            "Node Lysa-Arryn: {}\n",
            "Node Nestor-Royce: {}\n",
            "Node Walder-Frey: {}\n",
            "Node Colemon: {}\n",
            "Node Donnel-Waynwood: {}\n",
            "Node Eon-Hunter: {}\n",
            "Node Jon-Umber-(Greatjon): {}\n",
            "Node Masha-Heddle: {}\n",
            "Node Moreo-Tumitis: {}\n",
            "Node Mya-Stone: {}\n",
            "Node Mychel-Redfort: {}\n",
            "Node Robert-Arryn: {}\n",
            "Node Stevron-Frey: {}\n",
            "Node Tytos-Blackwood: {}\n",
            "Node Wendel-Manderly: {}\n",
            "Node Cayn: {}\n",
            "Node Janos-Slynt: {}\n",
            "Node Stannis-Baratheon: {}\n",
            "Node Chella: {}\n",
            "Node Clement-Piper: {}\n",
            "Node Karyl-Vance: {}\n",
            "Node Cohollo: {}\n",
            "Node Haggo: {}\n",
            "Node Qotho: {}\n",
            "Node Conn: {}\n",
            "Node Coratt: {}\n",
            "Node Doreah: {}\n",
            "Node Eroeh: {}\n",
            "Node Illyrio-Mopatis: {}\n",
            "Node Irri: {}\n",
            "Node Jhiqui: {}\n",
            "Node Mirri-Maz-Duur: {}\n",
            "Node Rhaegar-Targaryen: {}\n",
            "Node Viserys-Targaryen: {}\n",
            "Node Danwell-Frey: {}\n",
            "Node Hosteen-Frey: {}\n",
            "Node Jared-Frey: {}\n",
            "Node Dareon: {}\n",
            "Node Daryn-Hornwood: {}\n",
            "Node Torrhen-Karstark: {}\n",
            "Node Dolf: {}\n",
            "Node Donal-Noye: {}\n",
            "Node Jommo: {}\n",
            "Node Ogo: {}\n",
            "Node Rhaego: {}\n",
            "Node Dywen: {}\n",
            "Node Galbart-Glover: {}\n",
            "Node Gendry: {}\n",
            "Node High-Septon-(fat_one): {}\n",
            "Node Howland-Reed: {}\n",
            "Node Jacks: {}\n",
            "Node Joss: {}\n",
            "Node Marq-Piper: {}\n",
            "Node Porther: {}\n",
            "Node Raymun-Darry: {}\n",
            "Node Tobho-Mott: {}\n",
            "Node Tregar: {}\n",
            "Node Varly: {}\n",
            "Node Wyl-(guard): {}\n",
            "Node Wylla: {}\n",
            "Node Fogo: {}\n",
            "Node Roose-Bolton: {}\n",
            "Node Gared: {}\n",
            "Node Will-(prologue): {}\n",
            "Node Oswell-Whent: {}\n",
            "Node Todder: {}\n",
            "Node Gunthor-son-of-Gurn: {}\n",
            "Node Harys-Swyft: {}\n",
            "Node Heward: {}\n",
            "Node Hobb: {}\n",
            "Node Hugh: {}\n",
            "Node Jafer-Flowers: {}\n",
            "Node Kevan-Lannister: {}\n",
            "Node Matthar: {}\n",
            "Node Othor: {}\n",
            "Node Maege-Mormont: {}\n",
            "Node Jonos-Bracken: {}\n",
            "Node Jyck: {}\n",
            "Node Morrec: {}\n",
            "Node Kurleket: {}\n",
            "Node Lancel-Lannister: {}\n",
            "Node Leo-Lefford: {}\n",
            "Node Mace-Tyrell: {}\n",
            "Node Lyn-Corbray: {}\n",
            "Node Paxter-Redwyne: {}\n",
            "Node Maegor-I-Targaryen: {}\n",
            "Node Mord: {}\n",
            "Node Randyll-Tarly: {}\n",
            "Node Timett: {}\n",
            "Node Ulf-son-of-Umar: {}\n"
          ]
        }
      ]
    },
    {
      "cell_type": "markdown",
      "source": [
        "Kkode diatas digunakan untuk mencetak node-node dalam graph"
      ],
      "metadata": {
        "id": "EpQza9Gh_4cy"
      }
    },
    {
      "cell_type": "code",
      "source": [
        "degrees_weighted = dict(nx.degree(G,weight='weight'))\n",
        "max_degree = max(degrees_weighted.values())"
      ],
      "metadata": {
        "id": "Z2cC906p205n"
      },
      "execution_count": null,
      "outputs": []
    },
    {
      "cell_type": "markdown",
      "source": [
        "digunakan untuk membuat dict dari weight dan mengambil maksimul value"
      ],
      "metadata": {
        "id": "mGQf7kY3_-jG"
      }
    },
    {
      "cell_type": "code",
      "source": [
        "import seaborn as sns"
      ],
      "metadata": {
        "id": "PN5Z18KC26__"
      },
      "execution_count": null,
      "outputs": []
    },
    {
      "cell_type": "markdown",
      "source": [
        "Kode untuk import seaborn dengan inisialisai sebagai sns"
      ],
      "metadata": {
        "id": "VYL7FgjMAC0P"
      }
    },
    {
      "cell_type": "code",
      "source": [
        "h = plt.hist(weighted_degrees.values(), bins = 30)"
      ],
      "metadata": {
        "colab": {
          "base_uri": "https://localhost:8080/",
          "height": 850
        },
        "id": "lVln6Xvl29XD",
        "outputId": "a63c3263-e44b-4c84-c38e-1771f6f0b88c"
      },
      "execution_count": null,
      "outputs": [
        {
          "output_type": "display_data",
          "data": {
            "text/plain": [
              "<Figure size 2000x1000 with 1 Axes>"
            ],
            "image/png": "[encoded data removed]"
          },
          "metadata": {}
        }
      ]
    },
    {
      "cell_type": "markdown",
      "source": [
        "Kode tersebut digunakan untuk memvisualisasikan distribusi frekuensi data dan  mengatur jumlah bin yang digunakan dalam pembuatan histogram. Histogram tersebut kemudian disimpan dalam variabel `h`."
      ],
      "metadata": {
        "id": "gvRs-wpqAHTS"
      }
    },
    {
      "cell_type": "code",
      "source": [
        "sequence_degree = sorted([d for n, d in G.degree()], reverse=True)"
      ],
      "metadata": {
        "id": "J5V5iAj_3xrc"
      },
      "execution_count": null,
      "outputs": []
    },
    {
      "cell_type": "markdown",
      "source": [
        "Kode tersebut menghasilkan urutan derajat dari setiap simpul dalam graf dan kemudian di sorting."
      ],
      "metadata": {
        "id": "tWsBdczVAguK"
      }
    },
    {
      "cell_type": "code",
      "source": [
        "plt.hist(sequence_degree, bins=range(max(sequence_degree) + 2))\n",
        "plt.title(\"Degree Distribution\")\n",
        "plt.xlabel(\"Degree\")\n",
        "plt.ylabel(\"Density\")\n",
        "plt.show()"
      ],
      "metadata": {
        "colab": {
          "base_uri": "https://localhost:8080/",
          "height": 534
        },
        "id": "RHBCwIAtAayu",
        "outputId": "03d5a70d-27ff-47ac-9dfb-2b7eca0095a0"
      },
      "execution_count": null,
      "outputs": [
        {
          "output_type": "display_data",
          "data": {
            "text/plain": [
              "<Figure size 2000x1000 with 1 Axes>"
            ],
            "image/png": "[encoded data removed]"
          },
          "metadata": {}
        }
      ]
    },
    {
      "cell_type": "markdown",
      "source": [
        "kode diatas digunakan untuk visualisasi drajat histogram yang menampilkan bagaimana distribusi drajat pada setiap nodes."
      ],
      "metadata": {
        "id": "QH-yW78HAnVx"
      }
    },
    {
      "cell_type": "code",
      "source": [
        "density = nx.density(G)\n",
        "print( density)"
      ],
      "metadata": {
        "colab": {
          "base_uri": "https://localhost:8080/"
        },
        "id": "vu9sDdwO31Sa",
        "outputId": "091f3745-a16e-4c58-9084-b411f323168c"
      },
      "execution_count": null,
      "outputs": [
        {
          "output_type": "stream",
          "name": "stdout",
          "text": [
            "0.03933068828704502\n"
          ]
        }
      ]
    },
    {
      "cell_type": "markdown",
      "source": [
        "Kode di atas menghitung kepadatan (density) dimana Density rasio dari jumlah sisi yang ada dengan sisi yang maksimal."
      ],
      "metadata": {
        "id": "tlTU-5kyAv2i"
      }
    },
    {
      "cell_type": "code",
      "source": [
        "coefficient_clustering= nx.average_clustering(G)\n",
        "print(coefficient_clustering)"
      ],
      "metadata": {
        "colab": {
          "base_uri": "https://localhost:8080/"
        },
        "id": "lASzDu0V329M",
        "outputId": "7e161923-1701-41c8-d68f-a303669fc348"
      },
      "execution_count": null,
      "outputs": [
        {
          "output_type": "stream",
          "name": "stdout",
          "text": [
            "0.5121189412047715\n"
          ]
        }
      ]
    },
    {
      "cell_type": "markdown",
      "source": [
        "Kode tersebut menghitung koefisien klaster rata-rata dari graph dan kemudian menampilkan nya."
      ],
      "metadata": {
        "id": "96GKeqf0A1Bg"
      }
    },
    {
      "cell_type": "markdown",
      "source": [
        "### Community Detection"
      ],
      "metadata": {
        "id": "PqkKhvE_4upu"
      }
    },
    {
      "cell_type": "code",
      "source": [
        "from networkx.algorithms.community.centrality import girvan_newman\n",
        "\n",
        "communities_generator = girvan_newman(G)"
      ],
      "metadata": {
        "id": "rmbBeUs75B6n"
      },
      "execution_count": null,
      "outputs": []
    },
    {
      "cell_type": "markdown",
      "source": [
        "Kode diatas menggunakan algoritma Girvan-Newman untuk mendeteksi komunitas dalam graf dengan cara membagi graph dengan kelompok-kelompok yang saling terkait."
      ],
      "metadata": {
        "id": "2OveLnGsA9B_"
      }
    },
    {
      "cell_type": "code",
      "source": [
        "top_level= next(communities_generator)\n",
        "next_level = next(communities_generator)\n",
        "\n",
        "print( sorted(map(sorted, top_level)))\n",
        "print( sorted(map(sorted, next_level)))"
      ],
      "metadata": {
        "colab": {
          "base_uri": "https://localhost:8080/"
        },
        "id": "kF_R10pr5R3f",
        "outputId": "f7fc8823-feb5-45fd-d119-a14b1f96719c"
      },
      "execution_count": null,
      "outputs": [
        {
          "output_type": "stream",
          "name": "stdout",
          "text": [
            "[['Addam-Marbrand', 'Aemon-Targaryen-(Maester-Aemon)', 'Aerys-II-Targaryen', 'Albett', 'Alliser-Thorne', 'Alyn', 'Arthur-Dayne', 'Arya-Stark', 'Arys-Oakheart', 'Balon-Greyjoy', 'Balon-Swann', 'Barristan-Selmy', 'Benjen-Stark', 'Beric-Dondarrion', 'Boros-Blount', 'Bowen-Marsh', 'Bran-Stark', 'Brandon-Stark', 'Bronn', 'Brynden-Tully', 'Catelyn-Stark', 'Cayn', 'Cersei-Lannister', 'Chella', 'Chett', 'Chiggen', 'Clement-Piper', 'Clydas', 'Colemon', 'Dareon', 'Daryn-Hornwood', 'Desmond', 'Donal-Noye', 'Donnel-Waynwood', 'Dywen', 'Eddard-Stark', 'Edmure-Tully', 'Eon-Hunter', 'Galbart-Glover', 'Gared', 'Gendry', 'Gerold-Hightower', 'Gregor-Clegane', 'Grenn', 'Gunthor-son-of-Gurn', 'Halder', 'Hali', 'Hallis-Mollen', 'Harwin', 'Harys-Swyft', 'Heward', 'High-Septon-(fat_one)', 'Hobb', 'Hodor', 'Hoster-Tully', 'Howland-Reed', 'Hugh', 'Hullen', 'Ilyn-Payne', 'Jacks', 'Jafer-Flowers', 'Jaime-Lannister', 'Janos-Slynt', 'Jaremy-Rykker', 'Jeor-Mormont', 'Jeyne-Poole', 'Joffrey-Baratheon', 'Jon-Arryn', 'Jon-Snow', 'Jon-Umber-(Greatjon)', 'Jonos-Bracken', 'Jory-Cassel', 'Joseth', 'Joss', 'Jyck', 'Karyl-Vance', 'Kevan-Lannister', 'Kurleket', 'Lancel-Lannister', 'Leo-Lefford', 'Loras-Tyrell', 'Luwin', 'Lyanna-Stark', 'Lyn-Corbray', 'Lysa-Arryn', 'Mace-Tyrell', 'Maege-Mormont', 'Maegor-I-Targaryen', 'Mance-Rayder', 'Marillion', 'Marq-Piper', 'Masha-Heddle', 'Matthar', 'Meryn-Trant', 'Mord', 'Mordane', 'Moreo-Tumitis', 'Morrec', 'Mya-Stone', 'Mycah', 'Mychel-Redfort', 'Myrcella-Baratheon', 'Nan', 'Nestor-Royce', 'Osha', 'Oswell-Whent', 'Othor', 'Paxter-Redwyne', 'Petyr-Baelish', 'Porther', 'Pycelle', 'Pypar', 'Randyll-Tarly', 'Rast', 'Raymun-Darry', 'Renly-Baratheon', 'Rhaegar-Targaryen', 'Rickard-Karstark', 'Rickard-Stark', 'Rickon-Stark', 'Robb-Stark', 'Robert-Arryn', 'Robert-Baratheon', 'Rodrik-Cassel', 'Roose-Bolton', 'Samwell-Tarly', 'Sandor-Clegane', 'Sansa-Stark', 'Shae', 'Stannis-Baratheon', 'Stevron-Frey', 'Stiv', 'Syrio-Forel', 'Theon-Greyjoy', 'Thoros-of-Myr', 'Tobho-Mott', 'Todder', 'Tomard', 'Tommen-Baratheon', 'Torrhen-Karstark', 'Tregar', 'Tyrion-Lannister', 'Tytos-Blackwood', 'Tywin-Lannister', 'Vardis-Egen', 'Varly', 'Varys', 'Vayon-Poole', 'Walder-Frey', 'Waymar-Royce', 'Wendel-Manderly', 'Will-(prologue)', 'Willis-Wode', 'Wyl-(guard)', 'Wylla', 'Yoren'], ['Aegon-I-Targaryen', 'Aggo', 'Cohollo', 'Daenerys-Targaryen', 'Doreah', 'Drogo', 'Eroeh', 'Fogo', 'Haggo', 'Illyrio-Mopatis', 'Irri', 'Jhiqui', 'Jhogo', 'Jommo', 'Jorah-Mormont', 'Mirri-Maz-Duur', 'Ogo', 'Qotho', 'Quaro', 'Rakharo', 'Rhaego', 'Viserys-Targaryen'], ['Conn', 'Coratt', 'Dolf', 'Shagga', 'Timett', 'Ulf-son-of-Umar'], ['Danwell-Frey', 'Hosteen-Frey', 'Jared-Frey']]\n",
            "[['Addam-Marbrand', 'Aemon-Targaryen-(Maester-Aemon)', 'Aerys-II-Targaryen', 'Albett', 'Alliser-Thorne', 'Alyn', 'Arthur-Dayne', 'Arya-Stark', 'Arys-Oakheart', 'Balon-Greyjoy', 'Balon-Swann', 'Barristan-Selmy', 'Benjen-Stark', 'Beric-Dondarrion', 'Boros-Blount', 'Bowen-Marsh', 'Bran-Stark', 'Brandon-Stark', 'Bronn', 'Brynden-Tully', 'Catelyn-Stark', 'Cayn', 'Cersei-Lannister', 'Chella', 'Chett', 'Chiggen', 'Clement-Piper', 'Clydas', 'Colemon', 'Dareon', 'Daryn-Hornwood', 'Desmond', 'Donal-Noye', 'Donnel-Waynwood', 'Dywen', 'Eddard-Stark', 'Edmure-Tully', 'Eon-Hunter', 'Galbart-Glover', 'Gared', 'Gendry', 'Gerold-Hightower', 'Gregor-Clegane', 'Grenn', 'Gunthor-son-of-Gurn', 'Halder', 'Hali', 'Hallis-Mollen', 'Harwin', 'Harys-Swyft', 'Heward', 'High-Septon-(fat_one)', 'Hobb', 'Hodor', 'Hoster-Tully', 'Howland-Reed', 'Hugh', 'Hullen', 'Ilyn-Payne', 'Jacks', 'Jafer-Flowers', 'Jaime-Lannister', 'Janos-Slynt', 'Jaremy-Rykker', 'Jeor-Mormont', 'Jeyne-Poole', 'Joffrey-Baratheon', 'Jon-Arryn', 'Jon-Snow', 'Jon-Umber-(Greatjon)', 'Jonos-Bracken', 'Jory-Cassel', 'Joseth', 'Joss', 'Jyck', 'Karyl-Vance', 'Kevan-Lannister', 'Kurleket', 'Lancel-Lannister', 'Leo-Lefford', 'Loras-Tyrell', 'Luwin', 'Lyanna-Stark', 'Lyn-Corbray', 'Lysa-Arryn', 'Maege-Mormont', 'Maegor-I-Targaryen', 'Mance-Rayder', 'Marillion', 'Marq-Piper', 'Masha-Heddle', 'Matthar', 'Meryn-Trant', 'Mord', 'Mordane', 'Moreo-Tumitis', 'Morrec', 'Mya-Stone', 'Mycah', 'Mychel-Redfort', 'Myrcella-Baratheon', 'Nan', 'Nestor-Royce', 'Osha', 'Oswell-Whent', 'Othor', 'Petyr-Baelish', 'Porther', 'Pycelle', 'Pypar', 'Randyll-Tarly', 'Rast', 'Raymun-Darry', 'Renly-Baratheon', 'Rhaegar-Targaryen', 'Rickard-Karstark', 'Rickard-Stark', 'Rickon-Stark', 'Robb-Stark', 'Robert-Arryn', 'Robert-Baratheon', 'Rodrik-Cassel', 'Roose-Bolton', 'Samwell-Tarly', 'Sandor-Clegane', 'Sansa-Stark', 'Shae', 'Stannis-Baratheon', 'Stevron-Frey', 'Stiv', 'Syrio-Forel', 'Theon-Greyjoy', 'Thoros-of-Myr', 'Tobho-Mott', 'Todder', 'Tomard', 'Tommen-Baratheon', 'Torrhen-Karstark', 'Tregar', 'Tyrion-Lannister', 'Tytos-Blackwood', 'Tywin-Lannister', 'Vardis-Egen', 'Varly', 'Varys', 'Vayon-Poole', 'Walder-Frey', 'Waymar-Royce', 'Wendel-Manderly', 'Will-(prologue)', 'Willis-Wode', 'Wyl-(guard)', 'Wylla', 'Yoren'], ['Aegon-I-Targaryen', 'Aggo', 'Cohollo', 'Daenerys-Targaryen', 'Doreah', 'Drogo', 'Eroeh', 'Fogo', 'Haggo', 'Illyrio-Mopatis', 'Irri', 'Jhiqui', 'Jhogo', 'Jommo', 'Jorah-Mormont', 'Mirri-Maz-Duur', 'Ogo', 'Qotho', 'Quaro', 'Rakharo', 'Rhaego', 'Viserys-Targaryen'], ['Conn', 'Coratt', 'Dolf', 'Shagga', 'Timett', 'Ulf-son-of-Umar'], ['Danwell-Frey', 'Hosteen-Frey', 'Jared-Frey'], ['Mace-Tyrell', 'Paxter-Redwyne']]\n"
          ]
        }
      ]
    },
    {
      "cell_type": "markdown",
      "source": [
        "kode diatas menampikan top level dari komunitis yang dihasilkan  dan kemudian di urutkan."
      ],
      "metadata": {
        "id": "QIEfxJj4BFxu"
      }
    },
    {
      "cell_type": "code",
      "source": [
        "communities = list(nx.algorithms.community.label_propagation.label_propagation_communities(G))\n",
        "print( communities)"
      ],
      "metadata": {
        "colab": {
          "base_uri": "https://localhost:8080/"
        },
        "id": "PMxAa-gy5huh",
        "outputId": "525d34a5-23cb-4451-c498-ceff9492a404"
      },
      "execution_count": null,
      "outputs": [
        {
          "output_type": "stream",
          "name": "stdout",
          "text": [
            "[{'Tytos-Blackwood', 'Tywin-Lannister', 'Cersei-Lannister', 'Hugh', 'Mance-Rayder', 'Jeyne-Poole', 'Alyn', 'Brandon-Stark', 'Tommen-Baratheon', 'Vayon-Poole', 'Pycelle', 'Jon-Umber-(Greatjon)', 'Howland-Reed', 'Sansa-Stark', 'Joseth', 'Beric-Dondarrion', 'Varly', 'Jory-Cassel', 'Robert-Arryn', 'Mya-Stone', 'Desmond', 'Eon-Hunter', 'High-Septon-(fat_one)', 'Jaime-Lannister', 'Rodrik-Cassel', 'Heward', 'Sandor-Clegane', 'Hallis-Mollen', 'Bran-Stark', 'Lyn-Corbray', 'Walder-Frey', 'Thoros-of-Myr', 'Edmure-Tully', 'Benjen-Stark', 'Gendry', 'Moreo-Tumitis', 'Mychel-Redfort', 'Leo-Lefford', 'Hodor', 'Raymun-Darry', 'Meryn-Trant', 'Lyanna-Stark', 'Rickon-Stark', 'Rickard-Stark', 'Karyl-Vance', 'Wyl-(guard)', 'Arthur-Dayne', 'Kevan-Lannister', 'Stevron-Frey', 'Tyrion-Lannister', 'Maegor-I-Targaryen', 'Jonos-Bracken', 'Daryn-Hornwood', 'Hullen', 'Stiv', 'Aerys-II-Targaryen', 'Brynden-Tully', 'Chiggen', 'Barristan-Selmy', 'Robert-Baratheon', 'Boros-Blount', 'Masha-Heddle', 'Arya-Stark', 'Marq-Piper', 'Jacks', 'Gerold-Hightower', 'Donnel-Waynwood', 'Mord', 'Willis-Wode', 'Kurleket', 'Wendel-Manderly', 'Syrio-Forel', 'Nan', 'Clement-Piper', 'Nestor-Royce', 'Harys-Swyft', 'Galbart-Glover', 'Rhaegar-Targaryen', 'Theon-Greyjoy', 'Cayn', 'Harwin', 'Tomard', 'Luwin', 'Chella', 'Addam-Marbrand', 'Myrcella-Baratheon', 'Balon-Greyjoy', 'Loras-Tyrell', 'Osha', 'Aegon-I-Targaryen', 'Renly-Baratheon', 'Joss', 'Marillion', 'Mycah', 'Rickard-Karstark', 'Petyr-Baelish', 'Lysa-Arryn', 'Colemon', 'Vardis-Egen', 'Oswell-Whent', 'Maege-Mormont', 'Stannis-Baratheon', 'Joffrey-Baratheon', 'Roose-Bolton', 'Tobho-Mott', 'Hali', 'Yoren', 'Tregar', 'Wylla', 'Robb-Stark', 'Varys', 'Arys-Oakheart', 'Hoster-Tully', 'Catelyn-Stark', 'Janos-Slynt', 'Gunthor-son-of-Gurn', 'Lancel-Lannister', 'Porther', 'Shae', 'Torrhen-Karstark', 'Jon-Arryn', 'Bronn', 'Gregor-Clegane', 'Balon-Swann', 'Eddard-Stark', 'Ilyn-Payne', 'Mordane'}, {'Aggo', 'Jommo', 'Jorah-Mormont', 'Ogo', 'Irri', 'Rhaego', 'Quaro', 'Eroeh', 'Rakharo', 'Drogo', 'Fogo', 'Daenerys-Targaryen', 'Cohollo', 'Viserys-Targaryen', 'Mirri-Maz-Duur', 'Jhogo', 'Qotho', 'Doreah', 'Jhiqui', 'Haggo', 'Illyrio-Mopatis'}, {'Todder', 'Jafer-Flowers', 'Jaremy-Rykker', 'Grenn', 'Pypar', 'Clydas', 'Dywen', 'Jon-Snow', 'Aemon-Targaryen-(Maester-Aemon)', 'Hobb', 'Dareon', 'Chett', 'Alliser-Thorne', 'Randyll-Tarly', 'Matthar', 'Jeor-Mormont', 'Donal-Noye', 'Othor', 'Albett', 'Rast', 'Bowen-Marsh', 'Samwell-Tarly', 'Halder'}, {'Will-(prologue)', 'Waymar-Royce', 'Gared'}, {'Ulf-son-of-Umar', 'Shagga', 'Dolf', 'Timett'}, {'Conn', 'Coratt'}, {'Jared-Frey', 'Hosteen-Frey', 'Danwell-Frey'}, {'Morrec', 'Jyck'}, {'Mace-Tyrell', 'Paxter-Redwyne'}]\n"
          ]
        }
      ]
    },
    {
      "cell_type": "markdown",
      "source": [
        "Kode tersebut menggunakan algoritma Label Propagation untuk mendeteksi komunitas dalam graf di mana setiap komunitas direpresentasikan sebagai himpunan node-node yang termasuk dalam komunitas tersebut."
      ],
      "metadata": {
        "id": "3LZ7u5r5BMW_"
      }
    },
    {
      "cell_type": "markdown",
      "source": [
        "### Centrality Measure"
      ],
      "metadata": {
        "id": "vc7HEHYz5xus"
      }
    },
    {
      "cell_type": "code",
      "source": [
        "degree_centrality = nx.degree_centrality(G)\n",
        "\n",
        "top_5_nodes = sorted(degree_centrality, key=degree_centrality.get, reverse=True)[:5]\n",
        "\n",
        "print(\"5 tertinggi dari Degree Centrality:\")\n",
        "for node in top_5_nodes:\n",
        "    print(\"Node:\", node, \"- Degree Centrality:\", degree_centrality[node])"
      ],
      "metadata": {
        "id": "U1kojeQo5tm8"
      },
      "execution_count": null,
      "outputs": []
    },
    {
      "cell_type": "markdown",
      "source": [
        "Kode tersebut menghitung degree centrality untuk setiap node dimana node dengan drajat tertinggi memiliki perana penting dalam komunitas ."
      ],
      "metadata": {
        "id": "X-kJWVxIBXO6"
      }
    },
    {
      "cell_type": "code",
      "source": [
        "betweenness_centrality = nx.betweenness_centrality(G)\n",
        "\n",
        "top_5_nodes = sorted(betweenness_centrality, key=betweenness_centrality.get, reverse=True)[:5]\n",
        "\n",
        "for node in top_5_nodes:\n",
        "    print(\"Node:\", node, \"- Betweenness Centrality:\", betweenness_centrality[node])"
      ],
      "metadata": {
        "colab": {
          "base_uri": "https://localhost:8080/"
        },
        "id": "rgmN35UA6Py1",
        "outputId": "4b8f5dbe-cb3c-49fe-bbea-00155038e9b5"
      },
      "execution_count": null,
      "outputs": [
        {
          "output_type": "stream",
          "name": "stdout",
          "text": [
            "Top 5 Nodes by Betweenness Centrality:\n",
            "Node: Eddard-Stark - Betweenness Centrality: 0.2696038913836117\n",
            "Node: Robert-Baratheon - Betweenness Centrality: 0.21403028397371796\n",
            "Node: Tyrion-Lannister - Betweenness Centrality: 0.1902124972697492\n",
            "Node: Jon-Snow - Betweenness Centrality: 0.17158135899829566\n",
            "Node: Catelyn-Stark - Betweenness Centrality: 0.1513952715347627\n"
          ]
        }
      ]
    },
    {
      "cell_type": "markdown",
      "source": [
        "Kode tersebut menghitung betweenness centrality untuk setiap node dalam graf dimana yang paling tertinggi nilainya brarti memiliki peranan penting karena fleksibel untuk mengakses node lain."
      ],
      "metadata": {
        "id": "GBAucqQzBdXV"
      }
    },
    {
      "cell_type": "code",
      "source": [
        "closeness_centrality = nx.closeness_centrality(G)\n",
        "for node in bottom_5_closeness:\n",
        "    print(\"Node:\", node, \"- Closeness Centrality:\", closeness_centrality[node])"
      ],
      "metadata": {
        "colab": {
          "base_uri": "https://localhost:8080/"
        },
        "id": "Ms1SIy2z6VpV",
        "outputId": "1bf4d7e8-1bff-4750-f7bb-fbdc8636ba15"
      },
      "execution_count": null,
      "outputs": [
        {
          "output_type": "stream",
          "name": "stdout",
          "text": [
            "\n",
            "Bottom 5 Nodes by Closeness Centrality:\n",
            "Node: Hosteen-Frey - Closeness Centrality: 0.21112372304199772\n",
            "Node: Jared-Frey - Closeness Centrality: 0.21112372304199772\n",
            "Node: Fogo - Closeness Centrality: 0.21703617269544925\n",
            "Node: Paxter-Redwyne - Closeness Centrality: 0.22275449101796407\n",
            "Node: Clement-Piper - Closeness Centrality: 0.22572815533980584\n"
          ]
        }
      ]
    },
    {
      "cell_type": "markdown",
      "source": [
        "Kode menampilkan sentraliti dengan cloness yang menghasilkan 5 node terbawah menjadi node yang paling berpengaruh dalam komunitas berbeda dengan jenis sentralitas yang lain."
      ],
      "metadata": {
        "id": "EM792XmEBjy0"
      }
    },
    {
      "cell_type": "code",
      "source": [
        "eigenvector_centrality = nx.eigenvector_centrality(G)\n",
        "\n",
        "top_5_nodes = sorted(eigenvector_centrality, key=eigenvector_centrality.get, reverse=True)[:5]\n",
        "\n",
        "for node in top_5_nodes:\n",
        "    print(\"Node:\", node, \"- Eigenvector Centrality:\", eigenvector_centrality[node])"
      ],
      "metadata": {
        "colab": {
          "base_uri": "https://localhost:8080/"
        },
        "id": "6yhk9kAr6ZX1",
        "outputId": "05836b1a-fa92-4743-dea7-16e3459cc4df"
      },
      "execution_count": null,
      "outputs": [
        {
          "output_type": "stream",
          "name": "stdout",
          "text": [
            "Top 5 Nodes by Eigenvector Centrality:\n",
            "Node: Eddard-Stark - Eigenvector Centrality: 0.2964089387184345\n",
            "Node: Robert-Baratheon - Eigenvector Centrality: 0.2694880017758137\n",
            "Node: Sansa-Stark - Eigenvector Centrality: 0.23155019835665291\n",
            "Node: Tyrion-Lannister - Eigenvector Centrality: 0.22520388145217876\n",
            "Node: Joffrey-Baratheon - Eigenvector Centrality: 0.22075394589376893\n"
          ]
        }
      ]
    },
    {
      "cell_type": "markdown",
      "source": [
        "Kode tersebut menghitung eigenvector centrality untuk mengetahui node yang memiliki centralitas tinggi dibandingkan dengan drajat tertinggi dan ke posisi node yang terhubung ."
      ],
      "metadata": {
        "id": "iqsRahZuBr4g"
      }
    },
    {
      "cell_type": "markdown",
      "source": [
        "### Visualization"
      ],
      "metadata": {
        "id": "7yR8Luc7B4_U"
      }
    },
    {
      "cell_type": "code",
      "source": [
        "communities = community.greedy_modularity_communities(G)\n",
        "largest_community = max(communities, key=len)\n",
        "subgraph = G.subgraph(largest_community)\n",
        "\n",
        "# Visualisasi\n",
        "plt.figure(figsize=(10, 8))\n",
        "pos = nx.spring_layout(subgraph, k=0.05, iterations=20)  # Layout force-directed\n",
        "nx.draw(subgraph, pos, node_size=20, node_color='blue', edge_color='gray', with_labels=False)\n",
        "plt.title(\"Force-Directed Layout Visualization of Largest Community\")\n",
        "plt.show()"
      ],
      "metadata": {
        "colab": {
          "base_uri": "https://localhost:8080/",
          "height": 832
        },
        "id": "B8VpruSa60IY",
        "outputId": "5ab3fd2c-ec38-457e-8125-d5b3f8d9a203"
      },
      "execution_count": null,
      "outputs": [
        {
          "output_type": "display_data",
          "data": {
            "text/plain": [
              "<Figure size 1000x800 with 1 Axes>"
            ],
            "image/png": "[encoded data removed]"
          },
          "metadata": {}
        }
      ]
    },
    {
      "cell_type": "markdown",
      "source": [
        "Kode tersebut menggunakan Layout force-directed digunakan untuk menyusun node-node secara visual agar node-node yang terhubung erat berada dekat satu sama lain. Visualisasi ini membantu dalam memahami struktur dan pola komunitas yang ada dalam jaringan."
      ],
      "metadata": {
        "id": "vkva46HOB28Y"
      }
    },
    {
      "cell_type": "markdown",
      "source": [
        "## Report Writing"
      ],
      "metadata": {
        "id": "jjEuAbxQCYvD"
      }
    },
    {
      "cell_type": "markdown",
      "source": [
        "### 1. Pendahuluan\n",
        "Analisis jaringan untuk memahami hubungan antarkarakter dalam serial \"Game of Thrones\" lebih dalam. dataset ini menampilkan hubungan antar karakter serta bobotnya. dalam analisis di lakukan analisis centrality untuk mengetahui peranan penting setiap node dalam jaringan dengan menggunakan 4 jenis centrality,kemudian melakukan analisis karakteristik untuk mengetahui jumlah nnode, edge, atribut dll, kemudian analisis komunitas untuk mengetahui hubungan dalam satu komunitas dalam jaringan dibandingakan dengan diluar kelompok dan terakhir dilakukan visualisasi untuk menampilkan tampilan jaringan.\n",
        "### 2. Metodologi\n",
        "\n",
        "#### a. Pengumpulan Data\n",
        "Data diambil dari dataset yang mencatat hubungan antarkarakter dalam serial \"Game of Thrones\" yang didapat di internet.\n",
        "\n",
        "#### b. Pembentukan Graf\n",
        "Graf di bentuk dengan menempatkan karakter sebagai nodes dan hubungan antar karakter sebagai edges.\n",
        "#### c. Analisis Centrality\n",
        "analisis centrality dengan  degree centrality, betweenness centrality, closeness centrality, dan eigenvector centrality untuk mengetahui seberapa penting node dengn node yang lain.\n",
        "\n",
        "\n",
        "#### d. Analisis Karakteristik Jaringan\n",
        "Dilakukan analisis karakteristik jaringan untuk mengetahui average, degree , density dll.\n",
        "\n",
        "#### e. Deteksi Komunitas\n",
        "deteksi komunitas dilakukan dengan 2 algoritma yaitu girvan_newman dan label propagation.\n",
        "#### f. Visualisasi\n",
        "Graf jaringan divisualisasikan menggunakan library matplotlib dan seaborn kemudian menggunakan jenis visualisasi orce-directed graph karena sesuai untuk jaringan yg nnodenya banyak.\n",
        "\n",
        "### 3. Analisis Hasil\n",
        "#### a. Centrality Measures\n",
        "\n",
        "Hasil analisis centrality menampilkan node-node yang paling signifikan dalam jaringan karakter \"Game of Thrones\" berdasarkan berbagai metrik centrality. penggunaan metrik degree centrality menunjukkan Eddard Stark sebagai node dengan degree centrality tertinggi dengan nilai 0.355 yang menandakan pentingnya posisi eddard dalam jaringan, selanjutnya Robert Baratheon, Tyrion Lannister, Catelyn Stark, dan Jon Snow. analisis metrik betweenness centrality menempatkan Eddard Stark mendapat nilai tertinggi. untuk  eigenvector centrality posisi tertinggi adalah Eddard Stark dengan demikian  analisis ini memberikan informasi tentang peranan atau pentingnya posisi tiap karakter pada jaringan.\n",
        "\n",
        "#### b. Network Characteristics\n",
        "setelah melakukan analisis karakteristik jaringan diperoleh jaringan ini memiliki 187 node dan 684 edge, yang menunjukkan bahwa ada banyak koneksi dalam jaringan graph. Density menunjukan 0.039 yang artinya sebagian kecil dari total kemungkinan koneksi antar karakter telah terwujud.average clustering coefficient jaringan adalah sekitar 0.512, menunjukkan bahwa ada kecenderungan untuk pembentukan klaster  secara lokal. yang berarti tiap karakter sendrung saling terhubung dengan kelompok kecilnya.\n",
        "\n",
        "#### c. Community Detection\n",
        "Deteksi komunitas digunakan untuk mendeteksi sebagaimana. erat hubungan antar karakter pemilihan Metode Girvan-Newman untuk mengidentifikasi komunitas dengan mencari celah dalam jaringan berdasarkan perbedaan struktur, sementara label propagation mencoba mengelompokkan node berdasarkan label yang ditransmisikan dari tetangga mereka\".\n",
        "\n",
        "pada Girvan-Newman mencakup beberapa besar karakter utama dan pendukung yang saling terhubung erat dalam alur cerita utama.sementara metode label propagation menghasilkan komunitas yang lebih kecil dan lebih terfokus.\n",
        "\n",
        "#### d. Visualisasi\n",
        "Visualisasimemberikan informasi inovatif. Beberapa karakter memiliki lebih banyak koneksi daripada yang lain. Dengan menggunakan warna dan label, visualisasi ini memungkinkan pengguna untuk dengan mudah mengidentifikasi node mana yang paling terkait atau memiliki peran yang lebih signifikan dalam cerita.\n",
        "\n",
        "### 4. Interpretasi\n",
        "Analisis jaringan  memberikan beberapa interpretasi yang menarik seperti karakter Eddard Stark, Robert Baratheon, dan Tyrion Lannister adalah karakter yang paling berpengaruh dalam jaringan, yang menunjukkan peran kunci mereka dalam cerita. selanjutnya  kelompok-kelompok dengan afiliasi yang kuat membentuk hubungan yang erat. dan terakhir visualisasi jaringan menggambarkan secara jelas bagaimana karakter-karakter saling terhubung dan membentuk kelompok-kelompok yang berbeda.\n",
        "\n",
        "### 5. Kesimpulan\n",
        "Analisis jaringan yang dilakukan menampilkan bentuk jaringan yang rumit antar karakter . Dengan menggunakan metode analisis seperti centralitas, komunitas, dan karakteristik jaringan, saya jadi mengetahui karakter-karakter kunci, kelompok-kelompok yang saling terhubung, serta sifat dan dinamika keseluruhan dari jaringan tersebut. Misalnya, karakter Eddard Stark muncul sebagai salah satu tokoh yang paling berpengaruh dalam jaringan kemudian Komunitas-komunitas yang terbentuk dalam jaringan juga memberikan gambaran tentang keadaan dalam jaringan kemudian Visualisasi membantu saya lebih memahami gambaran dari jaringan tersebut."
      ],
      "metadata": {
        "id": "Oa2LgDifCbFH"
      }
    }
  ]
}